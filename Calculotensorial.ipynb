{
 "cells": [
  {
   "attachments": {},
   "cell_type": "markdown",
   "metadata": {},
   "source": [
    "## **Cálculo Tensorial**"
   ]
  },
  {
   "attachments": {},
   "cell_type": "markdown",
   "metadata": {},
   "source": [
    "### Introducción:"
   ]
  },
  {
   "attachments": {},
   "cell_type": "markdown",
   "metadata": {},
   "source": [
    "Se utilizará la palabra tensor para hablar de tensores de segundo orden.  \n",
    "Un tensor se puede presentar como una transformación lineal de un vector $\\mathbf{T}(u)$\n",
    "\n",
    "$\\mathbf{T}:V\\rightarrow V$ tal que para todo $ v \\in V : v = \\mathbf{T}(u) $"
   ]
  },
  {
   "attachments": {},
   "cell_type": "markdown",
   "metadata": {},
   "source": [
    "Si es una transformación lineal debe respetar los siguientes axiomas $\\forall v,u\\in V$ y $\\forall \\alpha\\in \\mathbb R$\n",
    "- $T(u+v) = T(u)+T(v)$\n",
    "- $T(\\alpha v) = \\alpha T(v)$"
   ]
  },
  {
   "attachments": {},
   "cell_type": "markdown",
   "metadata": {},
   "source": [
    "$T(v)$ también se puede escribir como $T\\cdot v$, pero eso no indica producto interior ya que son de conjuntos diferentes."
   ]
  },
  {
   "attachments": {},
   "cell_type": "markdown",
   "metadata": {},
   "source": [
    "Un tensor $\\mathbf{T}$ se puede representar de acuerdo a una base donde $T_{ij}$ son los componentes del tensor con respecto a esa base y $\\mathbf{e}_i \\cdot (\\mathbf{T}\\cdot \\mathbf{e}_j)= T_{ij}$  \n"
   ]
  },
  {
   "attachments": {},
   "cell_type": "markdown",
   "metadata": {},
   "source": [
    "#### El tensor con respecto a las bases se puede representar como:\n",
    "  $\\mathbf{T}= T_{ij}\\mathbf{e}_i\\mathbf{e}_j$\n"
   ]
  },
  {
   "attachments": {},
   "cell_type": "markdown",
   "metadata": {},
   "source": [
    "#### Matricialmente (3):  \n",
    "Tensor $\\mathbf{T} =\n",
    "\\begin{pmatrix}\n",
    "\\mathbf{e}_1 &\\mathbf{e}_2 &\\mathbf{e}_3\\\\\n",
    "\\end{pmatrix}  \n",
    "\\begin{pmatrix}\n",
    "T_{11} & T_{12} & T_{13}\\\\\n",
    "T_{21} & T_{22} & T_{23}\\\\\n",
    "T_{31} & T_{32} & T_{33}\\\\\n",
    "\\end{pmatrix}\n",
    "\\begin{pmatrix}\n",
    "\\mathbf{e}_1 \\\\ \\mathbf{e}_2 \\\\\\mathbf{e}_3\\\\\n",
    "\\end{pmatrix}  $  \n"
   ]
  },
  {
   "attachments": {},
   "cell_type": "markdown",
   "metadata": {},
   "source": [
    "##### Simbólicamente\n",
    "$\\mathbf{T}=\\mathbf{B}^T [T] \\mathbf{B}$  \n",
    "Donde $[T]$ es la matriz de componentes del tensor con respecto a la base $\\mathbf{B}$"
   ]
  },
  {
   "attachments": {},
   "cell_type": "markdown",
   "metadata": {},
   "source": [
    "Para las bases cartesianas el tensor se representa solo como $[T]$, que es la forma utilizada aca:"
   ]
  },
  {
   "attachments": {},
   "cell_type": "markdown",
   "metadata": {},
   "source": [
    "## Utilizando 1D array para los vectores y 2D para los tensores"
   ]
  },
  {
   "attachments": {},
   "cell_type": "markdown",
   "metadata": {},
   "source": [
    "Vectores:  \n",
    "$v = (2, 3, 5)$  $w=(1, 3, 6)$"
   ]
  },
  {
   "cell_type": "code",
   "execution_count": 120,
   "metadata": {},
   "outputs": [
    {
     "name": "stdout",
     "output_type": "stream",
     "text": [
      "vector v:  [2 3 5]\n",
      "vector w:  [1 3 6]\n"
     ]
    }
   ],
   "source": [
    "import numpy as np\n",
    "v=np.array([2,3,5])\n",
    "w=np.array([1,3,6])\n",
    "print(\"vector v: \",v)\n",
    "print(\"vector w: \",w)"
   ]
  },
  {
   "attachments": {},
   "cell_type": "markdown",
   "metadata": {},
   "source": [
    "Tensor $T =\n",
    "\\begin{pmatrix}\n",
    "1 & 2 & 3\\\\\n",
    "4 & 1 & 9\\\\\n",
    "8 & 6 & 7\\\\\n",
    "\\end{pmatrix}$"
   ]
  },
  {
   "cell_type": "code",
   "execution_count": 121,
   "metadata": {},
   "outputs": [
    {
     "name": "stdout",
     "output_type": "stream",
     "text": [
      "tensor T: \n",
      " [[1 2 3]\n",
      " [4 1 9]\n",
      " [8 6 7]]\n"
     ]
    }
   ],
   "source": [
    "T=np.array([[1,2,3],[4,1,9],[8,6,7]])\n",
    "print(\"tensor T: \\n\",T)"
   ]
  },
  {
   "attachments": {},
   "cell_type": "markdown",
   "metadata": {},
   "source": [
    "$\\mathbf{T(v)}=\n",
    "\\begin{pmatrix}\n",
    "1 & 2 & 3\\\\\n",
    "4 & 1 & 9\\\\\n",
    "8 & 6 & 7\\\\\n",
    "\\end{pmatrix}\n",
    "\\begin{pmatrix}\n",
    "2\\\\\n",
    "3\\\\\n",
    "5\\\\\n",
    "\\end{pmatrix}=\n",
    "\\begin{pmatrix}\n",
    "23\\\\\n",
    "56\\\\\n",
    "69\\\\\n",
    "\\end{pmatrix}$"
   ]
  },
  {
   "cell_type": "code",
   "execution_count": 122,
   "metadata": {},
   "outputs": [
    {
     "data": {
      "text/plain": [
       "array([23, 56, 69])"
      ]
     },
     "execution_count": 122,
     "metadata": {},
     "output_type": "execute_result"
    }
   ],
   "source": [
    "T@v #No es necesario escribir el vector en 2D, np.dot da el mismo resultado, pero se recomienda @."
   ]
  },
  {
   "attachments": {},
   "cell_type": "markdown",
   "metadata": {},
   "source": [
    "Comprobando linealidad $T(v+w)=T(v)+T(w)$"
   ]
  },
  {
   "cell_type": "code",
   "execution_count": 123,
   "metadata": {},
   "outputs": [
    {
     "data": {
      "text/plain": [
       "array([ 48, 117, 137])"
      ]
     },
     "execution_count": 123,
     "metadata": {},
     "output_type": "execute_result"
    }
   ],
   "source": [
    "T@(v+w)"
   ]
  },
  {
   "cell_type": "code",
   "execution_count": 124,
   "metadata": {},
   "outputs": [
    {
     "data": {
      "text/plain": [
       "array([ 48, 117, 137])"
      ]
     },
     "execution_count": 124,
     "metadata": {},
     "output_type": "execute_result"
    }
   ],
   "source": [
    "T@v+T@w #Mismo resultado"
   ]
  },
  {
   "attachments": {},
   "cell_type": "markdown",
   "metadata": {},
   "source": [
    "Sea T un tensor y V un espacio vectorial: $T(V)=U$ es un subespacio de $V$ y la imagen de T.  \n",
    "Por otro lado al subconjunto $W=(T(v)=0)$ se le denomina *núcleo* o *espacio nulo*.  \n",
    "A la dimensión de U se le denomina *rango* de T  \n",
    "A la dimensión de W se le denomina *nulidad* de T  \n",
    "obviamente el *rango + nulidad* es igual a la dimensión de V\n"
   ]
  },
  {
   "attachments": {},
   "cell_type": "markdown",
   "metadata": {},
   "source": [
    "### Transpuesta de $T = T^T$\n",
    "\n",
    "$\\mathbf{T}=\n",
    "\\begin{pmatrix}\n",
    "1 & 2 & 3\\\\\n",
    "4 & 1 & 9\\\\\n",
    "8 & 6 & 7\\\\\n",
    "\\end{pmatrix}\n",
    "\\mathbf{T}^T=\n",
    "\\begin{pmatrix}\n",
    "1 & 4 & 8\\\\\n",
    "2 & 1 & 6\\\\\n",
    "3 & 9 & 7\\\\\n",
    "\\end{pmatrix}$"
   ]
  },
  {
   "cell_type": "code",
   "execution_count": 125,
   "metadata": {},
   "outputs": [
    {
     "data": {
      "text/plain": [
       "array([[1, 4, 8],\n",
       "       [2, 1, 6],\n",
       "       [3, 9, 7]])"
      ]
     },
     "execution_count": 125,
     "metadata": {},
     "output_type": "execute_result"
    }
   ],
   "source": [
    "T.T #muy sencillo, esto solo tiene validéz en un tensor 2D."
   ]
  },
  {
   "attachments": {},
   "cell_type": "markdown",
   "metadata": {},
   "source": [
    "Comprobando que: $(T\\cdot v)\\cdot w = v\\cdot(T^T\\cdot w)$"
   ]
  },
  {
   "cell_type": "code",
   "execution_count": 126,
   "metadata": {},
   "outputs": [
    {
     "data": {
      "text/plain": [
       "605"
      ]
     },
     "execution_count": 126,
     "metadata": {},
     "output_type": "execute_result"
    }
   ],
   "source": [
    "(T@v)@w #utilizando el tensor T y los vectores v y w"
   ]
  },
  {
   "cell_type": "code",
   "execution_count": 127,
   "metadata": {},
   "outputs": [
    {
     "data": {
      "text/plain": [
       "605"
      ]
     },
     "execution_count": 127,
     "metadata": {},
     "output_type": "execute_result"
    }
   ],
   "source": [
    "v@(T.T@w) # y se comprueba la igualdad"
   ]
  },
  {
   "attachments": {},
   "cell_type": "markdown",
   "metadata": {},
   "source": [
    "### Parte simétrica y antisimétrica"
   ]
  },
  {
   "attachments": {},
   "cell_type": "markdown",
   "metadata": {},
   "source": [
    "Todo tensor puede dividirse en una parte simétrica y otra antisimétrica, siendo esta descomposición **única**  \n",
    "$T=\\frac{1}{2}(T+T^T)+\\frac{1}{2}(T-T^T)$"
   ]
  },
  {
   "attachments": {},
   "cell_type": "markdown",
   "metadata": {},
   "source": [
    "$simétrica=\n",
    "\\begin{pmatrix}\n",
    "a & d & e\\\\\n",
    "d & b & f\\\\\n",
    "e & f & c\\\\\n",
    "\\end{pmatrix}\n",
    "antisimétrica=\n",
    "\\begin{pmatrix}\n",
    "0 & -m & -n\\\\\n",
    "m & 0 & -k\\\\\n",
    "n & k & 0\\\\\n",
    "\\end{pmatrix}$"
   ]
  },
  {
   "cell_type": "code",
   "execution_count": 128,
   "metadata": {},
   "outputs": [
    {
     "data": {
      "text/plain": [
       "array([[1. , 3. , 5.5],\n",
       "       [3. , 1. , 7.5],\n",
       "       [5.5, 7.5, 7. ]])"
      ]
     },
     "execution_count": 128,
     "metadata": {},
     "output_type": "execute_result"
    }
   ],
   "source": [
    "0.5*(T+T.T) #PArte simétrica"
   ]
  },
  {
   "cell_type": "code",
   "execution_count": 129,
   "metadata": {},
   "outputs": [
    {
     "data": {
      "text/plain": [
       "array([[ 0. , -1. , -2.5],\n",
       "       [ 1. ,  0. ,  1.5],\n",
       "       [ 2.5, -1.5,  0. ]])"
      ]
     },
     "execution_count": 129,
     "metadata": {},
     "output_type": "execute_result"
    }
   ],
   "source": [
    "0.5*(T-T.T) #Parte antisimétrica"
   ]
  },
  {
   "attachments": {},
   "cell_type": "markdown",
   "metadata": {},
   "source": [
    "### Producto tensorial\n",
    "$ vw=v\\otimes w =\n",
    "\\begin{pmatrix}\n",
    "2 & 6 & 12\\\\\n",
    "3 & 9 & 18\\\\\n",
    "5 & 15 & 30\\\\\n",
    "\\end{pmatrix}$"
   ]
  },
  {
   "cell_type": "code",
   "execution_count": 243,
   "metadata": {},
   "outputs": [
    {
     "name": "stdout",
     "output_type": "stream",
     "text": [
      "[[ 2  6 12]\n",
      " [ 3  9 18]\n",
      " [ 5 15 30]]\n"
     ]
    }
   ],
   "source": [
    "M=np.tensordot(v,w,axes=0) #axes=0 producto tensorial, axes=1 producto escalar, axes=2 doble producto interior para tensores\n",
    "print(M)"
   ]
  },
  {
   "attachments": {},
   "cell_type": "markdown",
   "metadata": {},
   "source": [
    "Recordar que matricialmente el producto tensorial $v\\otimes w= vw^T$ (donde los vectores se escriben en forma de columna)"
   ]
  },
  {
   "attachments": {},
   "cell_type": "markdown",
   "metadata": {},
   "source": [
    "Comprobando que $(u\\otimes v)\\cdot w = (v\\cdot w)u$"
   ]
  },
  {
   "attachments": {},
   "cell_type": "markdown",
   "metadata": {},
   "source": [
    "ingresando el vector $u= (3,5,2)$"
   ]
  },
  {
   "cell_type": "code",
   "execution_count": 131,
   "metadata": {},
   "outputs": [
    {
     "name": "stdout",
     "output_type": "stream",
     "text": [
      "vector u:  [3 5 2]\n"
     ]
    }
   ],
   "source": [
    "u=np.array([3,5,2])\n",
    "print(\"vector u: \",u)"
   ]
  },
  {
   "cell_type": "code",
   "execution_count": 244,
   "metadata": {},
   "outputs": [
    {
     "data": {
      "text/plain": [
       "array([123, 205,  82])"
      ]
     },
     "execution_count": 244,
     "metadata": {},
     "output_type": "execute_result"
    }
   ],
   "source": [
    "np.tensordot(u,v,axes=0)@w #producto tensorial entre u y v y luego el producto con w"
   ]
  },
  {
   "cell_type": "code",
   "execution_count": 133,
   "metadata": {},
   "outputs": [
    {
     "data": {
      "text/plain": [
       "array([123, 205,  82])"
      ]
     },
     "execution_count": 133,
     "metadata": {},
     "output_type": "execute_result"
    }
   ],
   "source": [
    "(v@w)*u #Se comprueba que da el mismo resultado"
   ]
  },
  {
   "attachments": {},
   "cell_type": "markdown",
   "metadata": {},
   "source": [
    "### Invariantes principales de un tensor"
   ]
  },
  {
   "attachments": {},
   "cell_type": "markdown",
   "metadata": {},
   "source": [
    "Para tensores son 3 escalares que NO dependen de la base, de ahí su nombre como invariantes.  \n",
    "$I_1(\\mathbf{T})$: traza de T, $I_2(\\mathbf{T})$, $I_3(\\mathbf{T})$: determinante de T,"
   ]
  },
  {
   "attachments": {},
   "cell_type": "markdown",
   "metadata": {},
   "source": [
    "#### Traza $tr(T)$\n",
    "$T=\n",
    "\\begin{pmatrix}\n",
    "1 & 2 & 3\\\\\n",
    "4 & 1 & 9\\\\\n",
    "8 & 6 & 7\\\\\n",
    "\\end{pmatrix}$\n",
    "$tr(T) = 1+ 1+7=9$. (La suma de la diagonal)"
   ]
  },
  {
   "cell_type": "code",
   "execution_count": 134,
   "metadata": {},
   "outputs": [
    {
     "data": {
      "text/plain": [
       "9"
      ]
     },
     "execution_count": 134,
     "metadata": {},
     "output_type": "execute_result"
    }
   ],
   "source": [
    "np.trace(T)"
   ]
  },
  {
   "attachments": {},
   "cell_type": "markdown",
   "metadata": {},
   "source": [
    "#### Determinante  $det(T)$"
   ]
  },
  {
   "cell_type": "code",
   "execution_count": 135,
   "metadata": {},
   "outputs": [
    {
     "data": {
      "text/plain": [
       "88.99999999999999"
      ]
     },
     "execution_count": 135,
     "metadata": {},
     "output_type": "execute_result"
    }
   ],
   "source": [
    "np.linalg.det(T)"
   ]
  },
  {
   "attachments": {},
   "cell_type": "markdown",
   "metadata": {},
   "source": [
    "Si $det(T)=0$ existe un vector NO NULO n tal que $T\\cdot n=0$  \n",
    "Y por lo tanto la nulidad de T no es el espacio trivial {0}"
   ]
  },
  {
   "attachments": {},
   "cell_type": "markdown",
   "metadata": {},
   "source": [
    "#### Segundo invariante ($I_2$)"
   ]
  },
  {
   "attachments": {},
   "cell_type": "markdown",
   "metadata": {},
   "source": [
    "#### $I_2=\\frac{1}{2}(T_{ii}T_{jj}-T_{ij}T_{ji})$ = $\\frac{1}{2}[(tr\\mathbf{T})^2-tr\\mathbf{T}^2]$ =$\\frac{1}{2}[(\\mathbf{T:I})^2-\\mathbf{T:T}]$"
   ]
  },
  {
   "attachments": {},
   "cell_type": "markdown",
   "metadata": {},
   "source": [
    "Para obtener directamente $I_2$ se escribirá como función:"
   ]
  },
  {
   "cell_type": "code",
   "execution_count": 136,
   "metadata": {},
   "outputs": [],
   "source": [
    "def inv2(A): #función para el invariante dos utilizando la segunda definición\n",
    "    if A.shape==(3,3):\n",
    "        invariante2=0.5*(np.trace(A)**2-np.trace(A@A))\n",
    "        return invariante2\n",
    "    else:\n",
    "        print(\"esta función es para tensores\")"
   ]
  },
  {
   "cell_type": "code",
   "execution_count": 137,
   "metadata": {},
   "outputs": [
    {
     "data": {
      "text/plain": [
       "-71.0"
      ]
     },
     "execution_count": 137,
     "metadata": {},
     "output_type": "execute_result"
    }
   ],
   "source": [
    "inv2(T)"
   ]
  },
  {
   "attachments": {},
   "cell_type": "markdown",
   "metadata": {},
   "source": [
    "### Producto interior en Lin(V)\n",
    "El espacio vectorial de los tensores Lin(V) tiene un producto interior:"
   ]
  },
  {
   "attachments": {},
   "cell_type": "markdown",
   "metadata": {},
   "source": [
    "$f(T,S) =tr(T^T\\cdot S) = T:S$"
   ]
  },
  {
   "attachments": {},
   "cell_type": "markdown",
   "metadata": {},
   "source": [
    "$T=\n",
    "\\begin{pmatrix}\n",
    "1 & 2 & 3\\\\\n",
    "4 & 1 & 9\\\\\n",
    "8 & 6 & 7\\\\\n",
    "\\end{pmatrix}$ \n",
    "$S=\n",
    "\\begin{pmatrix}\n",
    "2 & 2 & 5\\\\\n",
    "3 & 4 & 7\\\\\n",
    "1 & 6 & 1\\\\\n",
    "\\end{pmatrix}$"
   ]
  },
  {
   "cell_type": "code",
   "execution_count": 138,
   "metadata": {},
   "outputs": [
    {
     "name": "stdout",
     "output_type": "stream",
     "text": [
      "tensor S: \n",
      " [[2 2 5]\n",
      " [3 4 7]\n",
      " [1 6 1]]\n"
     ]
    }
   ],
   "source": [
    "S=np.array([[2,2,5],[3,4,7],[1,6,1]]) #ingresando S\n",
    "print(\"tensor S: \\n\",S)"
   ]
  },
  {
   "cell_type": "code",
   "execution_count": 139,
   "metadata": {},
   "outputs": [
    {
     "data": {
      "text/plain": [
       "array(151)"
      ]
     },
     "execution_count": 139,
     "metadata": {},
     "output_type": "execute_result"
    }
   ],
   "source": [
    "np.tensordot(T,S) #por defecto es axes=2 el doble producto interior"
   ]
  },
  {
   "cell_type": "code",
   "execution_count": 245,
   "metadata": {},
   "outputs": [
    {
     "name": "stdout",
     "output_type": "stream",
     "text": [
      "[[22 66 41]\n",
      " [13 44 23]\n",
      " [40 84 85]]\n",
      "traza es:  151\n"
     ]
    }
   ],
   "source": [
    "print(T.T@S)\n",
    "print(\"traza es: \",np.trace(T.T@S)) # mismo resultado por la definición"
   ]
  },
  {
   "cell_type": "code",
   "execution_count": 141,
   "metadata": {},
   "outputs": [
    {
     "data": {
      "text/plain": [
       "151"
      ]
     },
     "execution_count": 141,
     "metadata": {},
     "output_type": "execute_result"
    }
   ],
   "source": [
    "np.sum(T*S) # lo mismo, se multiplican los elementos y luego se suman"
   ]
  },
  {
   "attachments": {},
   "cell_type": "markdown",
   "metadata": {},
   "source": [
    "#### Módulo de un tensor"
   ]
  },
  {
   "attachments": {},
   "cell_type": "markdown",
   "metadata": {},
   "source": [
    "Definido el producto interior, se puede obtener el módulo como la raiz de $T:T$"
   ]
  },
  {
   "cell_type": "code",
   "execution_count": 142,
   "metadata": {},
   "outputs": [
    {
     "data": {
      "text/plain": [
       "16.15549442140351"
      ]
     },
     "execution_count": 142,
     "metadata": {},
     "output_type": "execute_result"
    }
   ],
   "source": [
    "np.linalg.norm(T) #Obtenido directamente con la norma"
   ]
  },
  {
   "cell_type": "code",
   "execution_count": 143,
   "metadata": {},
   "outputs": [
    {
     "data": {
      "text/plain": [
       "16.15549442140351"
      ]
     },
     "execution_count": 143,
     "metadata": {},
     "output_type": "execute_result"
    }
   ],
   "source": [
    "np.tensordot(T,T)**0.5 #mismo resultado con la definición"
   ]
  },
  {
   "attachments": {},
   "cell_type": "markdown",
   "metadata": {},
   "source": [
    "### Tensores ortogonales"
   ]
  },
  {
   "attachments": {},
   "cell_type": "markdown",
   "metadata": {},
   "source": [
    "Un tensor Q es ortogonal si:   $Q^T\\cdot Q = I$  \n",
    "Estos tensores conservan el producto interior:  \n",
    "$Q(v)\\cdot Q(w)= v\\cdot w$"
   ]
  },
  {
   "attachments": {},
   "cell_type": "markdown",
   "metadata": {},
   "source": [
    "Hay dos opciones:  \n",
    "- $det(Q)= 1$ rotacional o tensor ortogonal propio\n",
    "- $det(Q)= -1$ reflexión o tensor ortogonal impropio"
   ]
  },
  {
   "attachments": {},
   "cell_type": "markdown",
   "metadata": {},
   "source": [
    "Si R es rotación. El conjunto U={$v\\in V: v = R\\cdot v$} es un subespacio unidimencional de V conocido como eje de R."
   ]
  },
  {
   "attachments": {},
   "cell_type": "markdown",
   "metadata": {},
   "source": [
    "Un tensor T es positivo definido si $v\\cdot(T\\cdot v)> 0$ (Si se agrega la igualdad es semi-positivo definido)"
   ]
  },
  {
   "attachments": {},
   "cell_type": "markdown",
   "metadata": {},
   "source": [
    "### Teorema Espectral"
   ]
  },
  {
   "attachments": {},
   "cell_type": "markdown",
   "metadata": {},
   "source": [
    " #### $ \\mathbf{T}\\cdot \\mathbf{e} = \\alpha\\cdot \\mathbf{e}$\n",
    " Donde:  \n",
    " - $\\mathbf{T}$: tensor cualquiera de Lin(V)\n",
    " - $\\mathbf{e}$: vector unitario:  eigenvector, vector propio o vector característico.\n",
    " - $\\alpha$ : escalar: eigenvalor, valor propio o valor característico asociado a $\\mathbf{e}$"
   ]
  },
  {
   "attachments": {},
   "cell_type": "markdown",
   "metadata": {},
   "source": [
    "También se puede escribir como:  \n",
    "#### $(\\mathbf{T}-\\alpha\\mathbf{I})\\cdot \\mathbf{e}=0$  \n",
    "Lo que se conoce como ecuación caracterítica de T que por definición también:\n",
    "#### $\\lambda^3-I_1\\lambda^2+I_2\\lambda-I_3=0$"
   ]
  },
  {
   "attachments": {},
   "cell_type": "markdown",
   "metadata": {},
   "source": [
    "Como los invariantes de T son reales, los valores propios son 3 o solo 1"
   ]
  },
  {
   "attachments": {},
   "cell_type": "markdown",
   "metadata": {},
   "source": [
    "- Todos los vectores $v$ tales que $T\\cdot v= \\lambda v$ forma el espacio característico de T, subespacio vectorial de V\n",
    "- El espectro de T es la lista {$\\lambda_1,\\lambda_2,\\lambda_3$}, donde: $\\lambda_1\\leq\\lambda_2\\leq\\lambda_3$, los valores propios de T si es que existen."
   ]
  },
  {
   "attachments": {},
   "cell_type": "markdown",
   "metadata": {},
   "source": [
    "SI un Tensor T es simétrico, entonces tiene 3 valores propios, y los espacios propios correspondientes a valores propios diferentes, son ortogonales.  \n",
    "Así para un tensor simétrico existe al menos una base cartesiana compuesta solo por vectores propios, llamada base característica."
   ]
  },
  {
   "attachments": {},
   "cell_type": "markdown",
   "metadata": {},
   "source": [
    "#### Descomposición espectral\n",
    "Para un tensor simétrico Z, existe a lo menos una base característica y los valores propios asociados a ella forman el espectro total de Z"
   ]
  },
  {
   "attachments": {},
   "cell_type": "markdown",
   "metadata": {},
   "source": [
    "$Z =\\displaystyle\\sum_{i=3}^{3} \\lambda_i\\mathbf{e}_i$ "
   ]
  },
  {
   "attachments": {},
   "cell_type": "markdown",
   "metadata": {},
   "source": [
    "Y Matricialmente:  \n",
    "$\\mathbf{B}^T\n",
    "\\begin{bmatrix}\n",
    "\\lambda_1 & 0 & 0\\\\\n",
    "0 & \\lambda_2 & 0\\\\\n",
    "0 & 0 & \\lambda_3\\\\\n",
    "\\end{bmatrix}\\mathbf{B}$ "
   ]
  },
  {
   "attachments": {},
   "cell_type": "markdown",
   "metadata": {},
   "source": [
    "- Si Z tiene 3 valores propios los espacios característicos son lineas mutuamente perpendiculares pasando por el origen\n",
    "- Si Z tiene 2 valores propios se puede represenatr como $\\lambda_1\\mathbf{e}_1\\mathbf{e}_1+\\lambda_2(\\mathbf{I}-\\mathbf{e}_1\\mathbf{e}_1)$ y los espacios característicos son $e_1$ y su ortogonal.\n",
    "- SI Z tiene un solo valor propio se puede representar como $\\lambda\\mathbf{I}$ y V es el espacio característico"
   ]
  },
  {
   "attachments": {},
   "cell_type": "markdown",
   "metadata": {},
   "source": [
    "Ingresando tensor Z simétrico. \n",
    "$Z = \\begin{pmatrix}\n",
    "1 & 7 & 6\\\\\n",
    "7 & 2 & 4\\\\\n",
    "5 & 4 & 3\\\\\n",
    "\\end{pmatrix}$ "
   ]
  },
  {
   "cell_type": "code",
   "execution_count": 144,
   "metadata": {},
   "outputs": [
    {
     "name": "stdout",
     "output_type": "stream",
     "text": [
      "tensor simétrico Z: \n",
      " [[1 7 6]\n",
      " [7 2 4]\n",
      " [5 4 3]]\n"
     ]
    }
   ],
   "source": [
    "Z=np.array([[1,7,6],[7,2,4],[5,4,3]])\n",
    "print(\"tensor simétrico Z: \\n\", Z)"
   ]
  },
  {
   "attachments": {},
   "cell_type": "markdown",
   "metadata": {},
   "source": [
    "##### Eigen-valores:\n",
    "Se obtienen solo los eigenvalores con np.linalg.eigvals()  \n",
    "Con np.diagflat se crea un 2D array que utiliza a otro array, en este caso 1D, como diagonal."
   ]
  },
  {
   "cell_type": "code",
   "execution_count": 145,
   "metadata": {},
   "outputs": [
    {
     "name": "stdout",
     "output_type": "stream",
     "text": [
      "Matriz de eigenvalores: \n",
      " [[13.          0.          0.        ]\n",
      " [ 0.         -5.79128785  0.        ]\n",
      " [ 0.          0.         -1.20871215]]\n"
     ]
    }
   ],
   "source": [
    "D=np.diagflat(np.linalg.eigvals(Z)) #con eigvals se obtiene un array 1D con los eigenvalores\n",
    "# COn diagflat ese array pasa a ser la diagonal de un array 2D que se ha denominado D\n",
    "print(\"Matriz de eigenvalores: \\n\", D) "
   ]
  },
  {
   "attachments": {},
   "cell_type": "markdown",
   "metadata": {},
   "source": [
    "Esta nueva matriz compuesta por los eigenvalores, es igual a Z, pero con otra base (los eigenvectores), por lo que lo que posee los mismo invariantes ya que estos no dependen de la base."
   ]
  },
  {
   "attachments": {},
   "cell_type": "markdown",
   "metadata": {},
   "source": [
    "##### $I_1$: Traza"
   ]
  },
  {
   "cell_type": "code",
   "execution_count": 146,
   "metadata": {},
   "outputs": [
    {
     "name": "stdout",
     "output_type": "stream",
     "text": [
      "traza de Z es:  6  y traza de D es: 5.999999999999999\n"
     ]
    }
   ],
   "source": [
    "print(\"traza de Z es: \",np.trace(Z), \" y traza de D es:\",np.trace(D)) # Se aprecia que son iguales"
   ]
  },
  {
   "attachments": {},
   "cell_type": "markdown",
   "metadata": {},
   "source": [
    "#### $I_2$  \n",
    "Aplicando la función inv2 creada"
   ]
  },
  {
   "cell_type": "code",
   "execution_count": 148,
   "metadata": {},
   "outputs": [
    {
     "name": "stdout",
     "output_type": "stream",
     "text": [
      "segunda invariante de Z es:  -84.0  y de D es: -83.99999999999993\n"
     ]
    }
   ],
   "source": [
    "print(\"segunda invariante de Z es: \",inv2(Z), \" y de D es:\",inv2(D)) # Se aprecia que son iguales"
   ]
  },
  {
   "attachments": {},
   "cell_type": "markdown",
   "metadata": {},
   "source": [
    "##### $I_3$: Determinante"
   ]
  },
  {
   "cell_type": "code",
   "execution_count": 223,
   "metadata": {},
   "outputs": [
    {
     "name": "stdout",
     "output_type": "stream",
     "text": [
      "determinante de Z es:  90.99999999999997  y determiante de D es: 90.99999999999989\n"
     ]
    }
   ],
   "source": [
    "print(\"determinante de Z es: \",np.linalg.det(Z), \" y determiante de D es:\",np.linalg.det(D)) # Se aprecia que son iguales."
   ]
  },
  {
   "attachments": {},
   "cell_type": "markdown",
   "metadata": {},
   "source": [
    "Comprobando la validez de los eigenvalores e invariantes de Z utilizando la ecuación característica:  \n",
    "$\\lambda^3-I_1\\lambda^2+I_2\\lambda-I_3=0$  \n",
    "Con cualquier eigenvalor debería ser válida:"
   ]
  },
  {
   "cell_type": "code",
   "execution_count": 158,
   "metadata": {},
   "outputs": [
    {
     "name": "stdout",
     "output_type": "stream",
     "text": [
      "-1.1084466677857563e-12\n",
      "3.126388037344441e-13\n",
      "7.105427357601002e-14\n"
     ]
    }
   ],
   "source": [
    "print(D[0,0]**3-np.trace(Z)*D[0,0]**2+inv2(Z)*D[0,0]-np.linalg.det(Z)) #utiliando los eigenvalores (diagonal de D)\n",
    "print(D[1,1]**3-np.trace(Z)*D[1,1]**2+inv2(Z)*D[1,1]-np.linalg.det(Z))\n",
    "print(D[2,2]**3-np.trace(Z)*D[2,2]**2+inv2(Z)*D[2,2]-np.linalg.det(Z))"
   ]
  },
  {
   "attachments": {},
   "cell_type": "markdown",
   "metadata": {},
   "source": [
    "#### Eigen valores y Eigen vectores"
   ]
  },
  {
   "cell_type": "code",
   "execution_count": 224,
   "metadata": {},
   "outputs": [
    {
     "name": "stdout",
     "output_type": "stream",
     "text": [
      "[13.         -5.79128785 -1.20871215]\n",
      "[[-0.60899174 -0.77389339 -0.16152096]\n",
      " [-0.58307719  0.61237244 -0.61237244]\n",
      " [-0.53772675  0.16152096  0.77389339]]\n"
     ]
    }
   ],
   "source": [
    "val,vec=np.linalg.eig(Z) #Los eigen vectores están en cada columna correspondiente a cada eigen valor\n",
    "print(val)\n",
    "print(vec)"
   ]
  },
  {
   "attachments": {},
   "cell_type": "markdown",
   "metadata": {},
   "source": [
    "Comprobando que $B^{-1}[T]B$ es igual a la matriz diagonal de los eigenvalores"
   ]
  },
  {
   "cell_type": "code",
   "execution_count": 225,
   "metadata": {},
   "outputs": [
    {
     "data": {
      "text/plain": [
       "array([[ 1.30000000e+01,  3.33066907e-15,  8.88178420e-16],\n",
       "       [ 6.21724894e-15, -5.79128785e+00,  0.00000000e+00],\n",
       "       [ 2.88657986e-15,  7.21644966e-16, -1.20871215e+00]])"
      ]
     },
     "execution_count": 225,
     "metadata": {},
     "output_type": "execute_result"
    }
   ],
   "source": [
    "np.linalg.inv(vec)@Z@vec"
   ]
  },
  {
   "attachments": {},
   "cell_type": "markdown",
   "metadata": {},
   "source": [
    "Comprobando la solución  \n",
    "$Z = \\begin{pmatrix}\n",
    "1 & 7 & 6\\\\\n",
    "7 & 2 & 4\\\\\n",
    "5 & 4 & 3\\\\\n",
    "\\end{pmatrix}$ "
   ]
  },
  {
   "attachments": {},
   "cell_type": "markdown",
   "metadata": {},
   "source": [
    "Primero se deben ordenar ya que el espectro es [$\\lambda_1\\leq\\lambda_2\\leq\\lambda_3$]"
   ]
  },
  {
   "cell_type": "code",
   "execution_count": 206,
   "metadata": {},
   "outputs": [
    {
     "name": "stdout",
     "output_type": "stream",
     "text": [
      "[[-5.79128785  0.          0.        ]\n",
      " [ 0.         -1.20871215  0.        ]\n",
      " [ 0.          0.         13.        ]]\n"
     ]
    }
   ],
   "source": [
    "D2=np.diagflat((np.linalg.eigvals(Z))[[1,2,0]])#también se puede usar roll\n",
    "print(D2)"
   ]
  },
  {
   "attachments": {},
   "cell_type": "markdown",
   "metadata": {},
   "source": [
    "Ahora se reordena los vectores"
   ]
  },
  {
   "cell_type": "code",
   "execution_count": 216,
   "metadata": {},
   "outputs": [
    {
     "name": "stdout",
     "output_type": "stream",
     "text": [
      "[[-0.77389339 -0.16152096 -0.60899174]\n",
      " [ 0.61237244 -0.61237244 -0.58307719]\n",
      " [ 0.16152096  0.77389339 -0.53772675]]\n"
     ]
    }
   ],
   "source": [
    "vec2=np.roll(vec,-1,axis=1)#Se reordena, solo fue necesario usar roll -1 (0,1,2) a (1,2,0)\n",
    "print(vec2)"
   ]
  },
  {
   "cell_type": "code",
   "execution_count": null,
   "metadata": {},
   "outputs": [],
   "source": []
  }
 ],
 "metadata": {
  "kernelspec": {
   "display_name": "Python 3",
   "language": "python",
   "name": "python3"
  },
  "language_info": {
   "codemirror_mode": {
    "name": "ipython",
    "version": 3
   },
   "file_extension": ".py",
   "mimetype": "text/x-python",
   "name": "python",
   "nbconvert_exporter": "python",
   "pygments_lexer": "ipython3",
   "version": "3.10.10"
  },
  "orig_nbformat": 4,
  "vscode": {
   "interpreter": {
    "hash": "76b7af52e90843776ded1ef99ecb80dcd9323eebdce9efd54da272c0d3ecbef2"
   }
  }
 },
 "nbformat": 4,
 "nbformat_minor": 2
}
